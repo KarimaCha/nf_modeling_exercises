{
 "cells": [
  {
   "cell_type": "markdown",
   "metadata": {},
   "source": [
    "# Principal Component Analysis (PCA)\n",
    "This notebook implements a PCA - first from scratch (part 1) and then using sklearn (part 2)."
   ]
  },
  {
   "cell_type": "markdown",
   "metadata": {},
   "source": [
    "## Part 1: PCA from scratch\n",
    "The following section is based on: \n",
    "- code: https://medium.com/@raghavan99o/principal-component-analysis-pca-explained-and-implemented-eeab7cb73b72 \n",
    "- theory: https://towardsdatascience.com/the-mathematics-behind-principal-component-analysis-fff2d7f4b643"
   ]
  },
  {
   "cell_type": "code",
   "execution_count": 1,
   "metadata": {},
   "outputs": [],
   "source": [
    "# import packages\n",
    "import numpy as np\n",
    "np.random.seed(1)"
   ]
  },
  {
   "cell_type": "markdown",
   "metadata": {},
   "source": [
    "### Step 1: \n",
    "Take the whole dataset consisting of d+1 dimensions and ignore the labels such that our new dataset becomes d dimensional. "
   ]
  },
  {
   "cell_type": "code",
   "execution_count": 2,
   "metadata": {},
   "outputs": [],
   "source": [
    "# generate random data in 3 dimensions with 2 classes (20 samples per class)\n",
    "\n",
    "vec1 = np.array([0, 0, 0])\n",
    "mat1 = np.array([[1, 0, 0], [0, 1, 0], [0, 0, 1]])    # np.eye(3) \n",
    "sample_for_class1 = np.random.multivariate_normal(vec1, mat1, 20).T\n",
    "\n",
    "vec2 = np.array([1, 1, 1])\n",
    "mat2 = np.array([[1, 0, 0], [0, 1, 0], [0, 0, 1]])\n",
    "sample_for_class2 = np.random.multivariate_normal(vec2, mat2, 20).T\n",
    "\n",
    "all_data = np.concatenate((sample_for_class1, sample_for_class2), axis=1)"
   ]
  },
  {
   "cell_type": "code",
   "execution_count": 3,
   "metadata": {},
   "outputs": [
    {
     "data": {
      "text/plain": [
       "((3, 20), (3, 20), (3, 40))"
      ]
     },
     "execution_count": 3,
     "metadata": {},
     "output_type": "execute_result"
    }
   ],
   "source": [
    "# let's check the dimensionality of the data\n",
    "sample_for_class1.shape, sample_for_class2.shape, all_data.shape"
   ]
  },
  {
   "cell_type": "code",
   "execution_count": null,
   "metadata": {},
   "outputs": [],
   "source": [
    "#  center the data (as it is done in sklearn) --> makes no big difference\n",
    "#all_data_centered = np.array([all_data[0] - np.mean(all_data[0, :]),\n",
    "#                              all_data[1] - np.mean(all_data[1, :]),\n",
    "#                              all_data[2] - np.mean(all_data[2, :])])\n",
    "#all_data = all_data_centered"
   ]
  },
  {
   "cell_type": "markdown",
   "metadata": {},
   "source": [
    "### Step 2:\n",
    "Compute the mean for every dimension of the whole dataset."
   ]
  },
  {
   "cell_type": "code",
   "execution_count": 43,
   "metadata": {},
   "outputs": [
    {
     "name": "stdout",
     "output_type": "stream",
     "text": [
      "The Mean Vector:\n",
      " [[0.41667492]\n",
      " [0.69848315]\n",
      " [0.49242335]]\n"
     ]
    }
   ],
   "source": [
    "# get mean for each of the 3 dimensions\n",
    "mean_dim1 = np.mean(all_data[0, :])\n",
    "mean_dim2 = np.mean(all_data[1, :])\n",
    "mean_dim3 = np.mean(all_data[2, :])\n",
    "mean_vector = np.array([[mean_dim1], [mean_dim2], [mean_dim3]])\n",
    "print('The Mean Vector:\\n', mean_vector)"
   ]
  },
  {
   "cell_type": "markdown",
   "metadata": {},
   "source": [
    "### Step 3:\n",
    "Compute the covariance matrix of the whole dataset."
   ]
  },
  {
   "cell_type": "code",
   "execution_count": 45,
   "metadata": {},
   "outputs": [
    {
     "name": "stdout",
     "output_type": "stream",
     "text": [
      "The Scatter Matrix is:\n",
      " [[38.4878051  10.50787213 11.13746016]\n",
      " [10.50787213 36.23651274 11.96598642]\n",
      " [11.13746016 11.96598642 49.73596619]]\n"
     ]
    }
   ],
   "source": [
    "# to perform the PCA, we need to compute the scatter matrix (covariance matrix) of the data (loop over dimensions)\n",
    "\n",
    "scatter_matrix = np.zeros((3,3))\n",
    "for i in range(all_data.shape[1]):\n",
    "    scatter_matrix += (all_data[:, i].reshape(3, 1) - mean_vector).dot((all_data[:, i].reshape(3, 1) - mean_vector).T)\n",
    "print('The Scatter Matrix is:\\n', scatter_matrix)"
   ]
  },
  {
   "cell_type": "markdown",
   "metadata": {},
   "source": [
    "### Step 4:\n",
    "Compute eigenvectors and the corresponding eigenvalues."
   ]
  },
  {
   "cell_type": "code",
   "execution_count": 5,
   "metadata": {},
   "outputs": [
    {
     "data": {
      "text/plain": [
       "(array([65.16936779, 32.69471296, 26.59620328]),\n",
       " array([[-0.49210223, -0.64670286,  0.58276136],\n",
       "        [-0.47927902, -0.35756937, -0.8015209 ],\n",
       "        [-0.72672348,  0.67373552,  0.13399043]]))"
      ]
     },
     "execution_count": 5,
     "metadata": {},
     "output_type": "execute_result"
    }
   ],
   "source": [
    "# use the numpy library to compute the eigenvectors and eigenvalues based on the scatter matrix\n",
    "\n",
    "eig_val_sc, eig_vec_sc = np.linalg.eig(scatter_matrix)\n",
    "eig_val_sc, eig_vec_sc"
   ]
  },
  {
   "cell_type": "code",
   "execution_count": 42,
   "metadata": {},
   "outputs": [],
   "source": [
    "# let's verify that numpy returns eigenvectors in unit length\n",
    "for ev in eig_vec_sc:\n",
    "    np.testing.assert_array_almost_equal(1.0, np.linalg.norm(ev))"
   ]
  },
  {
   "cell_type": "code",
   "execution_count": 6,
   "metadata": {},
   "outputs": [
    {
     "data": {
      "text/plain": [
       "[(65.16936779078195, array([-0.49210223, -0.47927902, -0.72672348])),\n",
       " (32.69471296321796, array([-0.64670286, -0.35756937,  0.67373552])),\n",
       " (26.596203282097097, array([ 0.58276136, -0.8015209 ,  0.13399043]))]"
      ]
     },
     "execution_count": 6,
     "metadata": {},
     "output_type": "execute_result"
    }
   ],
   "source": [
    "# we make a list of tuples containing (eigenvalue, eigenvector) pairs\n",
    "eig_pairs = [(np.abs(eig_val_sc[i]), eig_vec_sc[:,i]) for i in range(len(eig_val_sc))]\n",
    "eig_pairs"
   ]
  },
  {
   "cell_type": "markdown",
   "metadata": {},
   "source": [
    "### Step 5:\n",
    "Sort the eigenvectors by decreasing eigenvalues and choose k eigenvectors with the largest eigenvalues to form a d × k dimensional matrix W."
   ]
  },
  {
   "cell_type": "code",
   "execution_count": null,
   "metadata": {},
   "outputs": [],
   "source": [
    "# we then sort the list of tuples by the eigenvalue (largest first)\n",
    "eig_pairs.sort(key=lambda x: x[0], reverse=True)\n",
    "eig_pairs"
   ]
  },
  {
   "cell_type": "code",
   "execution_count": 7,
   "metadata": {},
   "outputs": [
    {
     "name": "stdout",
     "output_type": "stream",
     "text": [
      "65.16936779078195\n",
      "32.69471296321796\n",
      "26.596203282097097\n"
     ]
    }
   ],
   "source": [
    "# we verify that the list is correctly sorted by decreasing eigenvalues\n",
    "for i in eig_pairs:\n",
    "    print(i[0])"
   ]
  },
  {
   "cell_type": "code",
   "execution_count": 8,
   "metadata": {},
   "outputs": [
    {
     "name": "stdout",
     "output_type": "stream",
     "text": [
      "Matrix W:\n",
      " [[-0.49210223 -0.64670286]\n",
      " [-0.47927902 -0.35756937]\n",
      " [-0.72672348  0.67373552]]\n"
     ]
    }
   ],
   "source": [
    "# we now choose the k largest eigenvectors and arrange them in a d*k matrix (here: 3*2 matrix):\n",
    "\n",
    "matrix_w = np.hstack((eig_pairs[0][1].reshape(3,1), eig_pairs[1][1].reshape(3,1)))\n",
    "print('Matrix W:\\n', matrix_w)"
   ]
  },
  {
   "cell_type": "markdown",
   "metadata": {},
   "source": [
    "### Step 6:\n",
    "Use this d × k eigenvector matrix to transform the samples onto the new subspace."
   ]
  },
  {
   "cell_type": "code",
   "execution_count": 9,
   "metadata": {},
   "outputs": [
    {
     "data": {
      "text/plain": [
       "(2, 40)"
      ]
     },
     "execution_count": 9,
     "metadata": {},
     "output_type": "execute_result"
    }
   ],
   "source": [
    "# we now transform the original data by this eigenvector matrix to obtain the transformed sample with k=2 dimensions\n",
    "\n",
    "transformed = matrix_w.T.dot(all_data)\n",
    "transformed.shape"
   ]
  },
  {
   "cell_type": "code",
   "execution_count": 33,
   "metadata": {},
   "outputs": [
    {
     "data": {
      "image/png": "[encoded data removed]",
      "text/plain": [
       "<Figure size 432x288 with 1 Axes>"
      ]
     },
     "metadata": {
      "needs_background": "light"
     },
     "output_type": "display_data"
    }
   ],
   "source": [
    "# plot transformed samples for both classes\n",
    "\n",
    "import matplotlib.pyplot as plt\n",
    "plt.scatter(transformed[0,:20], transformed[1,:20], marker='o', alpha=0.8)\n",
    "plt.scatter(transformed[0,21:], transformed[1,21:], marker='v', alpha=0.8)\n",
    "plt.legend(labels=['class 1', 'class 2'], loc=2)\n",
    "plt.title('Transformed samples')\n",
    "plt.xlabel('principal component 1')\n",
    "plt.ylabel('principal component 2')\n",
    "plt.xlim(-4,4)\n",
    "plt.ylim(-4,4);"
   ]
  },
  {
   "cell_type": "code",
   "execution_count": 23,
   "metadata": {},
   "outputs": [],
   "source": [
    "# transformed1 = matrix_w.T.dot(sample_for_class1)\n",
    "# transformed2 = matrix_w.T.dot(sample_for_class2)\n",
    "\n",
    "#plt.scatter(transformed1[0], transformed1[1], marker='o', alpha=0.8)\n",
    "#plt.scatter(transformed2[0], transformed2[1], marker='v', alpha=0.8)\n",
    "#plt.legend(labels=['class 1', 'class 2'], loc=2)\n",
    "#plt.title('Transformed samples')\n",
    "#plt.xlabel('principal component 1')\n",
    "#plt.ylabel('principal component 2')\n",
    "#plt.xlim(-4,4)\n",
    "#plt.ylim(-4,4);"
   ]
  },
  {
   "cell_type": "markdown",
   "metadata": {},
   "source": [
    "## Part 2: PCA with sklearn"
   ]
  },
  {
   "cell_type": "code",
   "execution_count": 39,
   "metadata": {},
   "outputs": [
    {
     "data": {
      "text/plain": [
       "PCA(copy=True, iterated_power='auto', n_components=2, random_state=None,\n",
       "    svd_solver='auto', tol=0.0, whiten=False)"
      ]
     },
     "execution_count": 39,
     "metadata": {},
     "output_type": "execute_result"
    }
   ],
   "source": [
    "# compare the result to the PCA from sklearn\n",
    "\n",
    "from sklearn.decomposition import PCA\n",
    "\n",
    "pca = PCA(n_components=2)   # , whiten=True)\n",
    "pca.fit(all_data)"
   ]
  },
  {
   "cell_type": "code",
   "execution_count": 40,
   "metadata": {},
   "outputs": [
    {
     "data": {
      "text/plain": [
       "array([[-2.88360782, -3.45690078],\n",
       "       [-1.83254462,  4.01173195],\n",
       "       [ 4.71615243, -0.55483116]])"
      ]
     },
     "execution_count": 40,
     "metadata": {},
     "output_type": "execute_result"
    }
   ],
   "source": [
    "pca.transform(all_data)"
   ]
  },
  {
   "cell_type": "code",
   "execution_count": 36,
   "metadata": {},
   "outputs": [
    {
     "data": {
      "image/png": "[encoded data removed]",
      "text/plain": [
       "<Figure size 432x288 with 1 Axes>"
      ]
     },
     "metadata": {
      "needs_background": "light"
     },
     "output_type": "display_data"
    }
   ],
   "source": [
    "# plot the transformed data --> why not the same as above?\n",
    "import matplotlib.pyplot as plt\n",
    "\n",
    "plt.scatter(pca.components_[0,:20], pca.components_[1,:20], marker='o', alpha=0.8)\n",
    "plt.scatter(pca.components_[0,21:], pca.components_[1,21:], marker='v', alpha=0.8)\n",
    "plt.legend(labels=['class 1', 'class 2'], loc=2)\n",
    "plt.title('Transformed samples')\n",
    "plt.xlabel('principal component 1')\n",
    "plt.ylabel('principal component 2');"
   ]
  }
 ],
 "metadata": {
  "kernelspec": {
   "display_name": "Python [conda env:nf] *",
   "language": "python",
   "name": "conda-env-nf-py"
  },
  "language_info": {
   "codemirror_mode": {
    "name": "ipython",
    "version": 3
   },
   "file_extension": ".py",
   "mimetype": "text/x-python",
   "name": "python",
   "nbconvert_exporter": "python",
   "pygments_lexer": "ipython3",
   "version": "3.6.6"
  }
 },
 "nbformat": 4,
 "nbformat_minor": 2
}
