{
 "cells": [
  {
   "cell_type": "markdown",
   "metadata": {},
   "source": [
    "# Random Forest From Scratch\n",
    "---\n",
    "In this notebook we will build a radom forest model from scratch, following the instructions given on\n",
    "https://www.analyticsvidhya.com/blog/2018/12/building-a-random-forest-from-scratch-understanding-real-world-data-products-ml-for-programmers-part-3/"
   ]
  },
  {
   "cell_type": "markdown",
   "metadata": {},
   "source": [
    "### Step 1: Import basic libraries"
   ]
  },
  {
   "cell_type": "code",
   "execution_count": 2,
   "metadata": {},
   "outputs": [],
   "source": [
    "%load_ext autoreload\n",
    "%autoreload 2\n",
    "%matplotlib inline\n",
    "\n",
    "# !pip install fastai==0.7.0\n",
    "# ERROR: jupyter-console 6.0.0 has requirement prompt-toolkit<2.1.0,>=2.0.0, \n",
    "# but you'll have prompt-toolkit 1.0.15 which is incompatible.\n",
    "\n",
    "from fastai.imports import *\n",
    "from fastai.structured import *\n",
    "from sklearn.ensemble import RandomForestRegressor, RandomForestClassifier\n",
    "\n",
    "from IPython.display import display\n",
    "from sklearn import metrics"
   ]
  },
  {
   "cell_type": "markdown",
   "metadata": {},
   "source": [
    "### Step 2: Load data and split into train and test sets"
   ]
  },
  {
   "cell_type": "code",
   "execution_count": 2,
   "metadata": {},
   "outputs": [
    {
     "name": "stdout",
     "output_type": "stream",
     "text": [
      "/bin/sh: kaggle: command not found\r\n"
     ]
    }
   ],
   "source": [
    "# !pip install --user kaggle\n",
    "!kaggle competitions download -c bluebook-for-bulldozers"
   ]
  },
  {
   "cell_type": "code",
   "execution_count": null,
   "metadata": {},
   "outputs": [],
   "source": [
    "ATH = \"data/bulldozers/\"\n",
    "\n",
    "df_raw = pd.read_feather('tmp/bulldozers-raw')\n",
    "df_trn, y_trn, nas = proc_df(df_raw, 'SalePrice')  \n",
    "# proc_df takes a data frame df and splits off the response variable, and\n",
    "# changes the df into an entirely numeric dataframe.\n",
    "\n",
    "def split_vals(a,n): return a[:n], a[n:]\n",
    "n_valid = 12000\n",
    "n_trn = len(df_trn)-n_valid\n",
    "\n",
    "X_train, X_valid = split_vals(df_trn, n_trn)\n",
    "y_train, y_valid = split_vals(y_trn, n_trn)\n",
    "\n",
    "raw_train, raw_valid = split_vals(df_raw, n_trn)"
   ]
  }
 ],
 "metadata": {
  "kernelspec": {
   "display_name": "Python [conda env:nf] *",
   "language": "python",
   "name": "conda-env-nf-py"
  },
  "language_info": {
   "codemirror_mode": {
    "name": "ipython",
    "version": 3
   },
   "file_extension": ".py",
   "mimetype": "text/x-python",
   "name": "python",
   "nbconvert_exporter": "python",
   "pygments_lexer": "ipython3",
   "version": "3.6.6"
  }
 },
 "nbformat": 4,
 "nbformat_minor": 2
}
